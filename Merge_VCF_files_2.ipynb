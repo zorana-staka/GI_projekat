{
 "cells": [
  {
   "cell_type": "code",
   "execution_count": 43,
   "metadata": {},
   "outputs": [
    {
     "name": "stdout",
     "output_type": "stream",
     "text": [
      "Isti format fajla je u oba VCF dokumenta\n"
     ]
    }
   ],
   "source": [
    "first_file_path = \"../Fajlovi/1000G_test.vcf\"\n",
    "second_file_path = \"../Fajlovi/1000G_test_2.vcf\"\n",
    "\n",
    "mergedFile = open(\"merged.vcf\",\"w+\")\n",
    "\n",
    "class File_format: \n",
    "    def __init__(self, line):\n",
    "        self.line = line\n",
    "        self.vcf_version = \"\"\n",
    "        self.extract_file_format_version()\n",
    "        \n",
    "    def __eq__(self, other):\n",
    "        return self.line == other.line\n",
    "    \n",
    "    def extract_file_format_version(self):\n",
    "        try:\n",
    "            version = self.line.split(\"=VCFv\",1)[1]\n",
    "            self.vcf_version = version\n",
    "        except:\n",
    "            pass\n",
    "    \n",
    "\n",
    "class Filter:\n",
    "    def __init__(self, line):\n",
    "        self.line = line\n",
    "        self.id = \"\"\n",
    "        self.description = \"\"\n",
    "        \n",
    "    def extract_id(self):\n",
    "        try:\n",
    "            id = self.line.split(\"ID=\", 1)[1]\n",
    "            print(\"Id: \" + id)\n",
    "            self.id = id\n",
    "        except:\n",
    "            pass\n",
    "    \n",
    "    def extract_description(self):\n",
    "        try:\n",
    "            description = self.line.split('Description=\"', 1)[1]\n",
    "            print(\"Desc: \" + description)\n",
    "            self.description = description\n",
    "    \n",
    "\n",
    "# context manager\n",
    "with open(first_file_path) as first_file_object:\n",
    "    for line in first_file_object:\n",
    "        if(line.startswith(\"##fileformat\")):\n",
    "            file_format_first_file = File_format(line)\n",
    "            \n",
    "            with open(second_file_path) as second_file_object:\n",
    "                first_line_in_second_file = second_file_object.readline()\n",
    "                file_format_second_file = File_format(first_line_in_second_file) \n",
    "                if(file_format_first_file.vcf_version == file_format_second_file.vcf_version):\n",
    "                    print(\"Isti format fajla je u oba VCF dokumenta\")\n",
    "                else:\n",
    "                    print(\"Različit format fajlova u ova dva VCF dokumenta.\")\n",
    "                \n",
    "            \n",
    "        # ##FILTER=<ID=\"id\",Description=\"description\">    \n",
    "        elif (line.startswith(\"##FILTER\")):\n",
    "                pass\n",
    "        \n",
    "    "
   ]
  }
 ],
 "metadata": {
  "kernelspec": {
   "display_name": "Python 3",
   "language": "python",
   "name": "python3"
  },
  "language_info": {
   "codemirror_mode": {
    "name": "ipython",
    "version": 3
   },
   "file_extension": ".py",
   "mimetype": "text/x-python",
   "name": "python",
   "nbconvert_exporter": "python",
   "pygments_lexer": "ipython3",
   "version": "3.7.6"
  }
 },
 "nbformat": 4,
 "nbformat_minor": 4
}
