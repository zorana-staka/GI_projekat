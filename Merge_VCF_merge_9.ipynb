{
 "cells": [
  {
   "cell_type": "code",
   "execution_count": 1,
   "metadata": {},
   "outputs": [
    {
     "ename": "NameError",
     "evalue": "name 'docopt' is not defined",
     "output_type": "error",
     "traceback": [
      "\u001B[1;31m---------------------------------------------------------------------------\u001B[0m",
      "\u001B[1;31mNameError\u001B[0m                                 Traceback (most recent call last)",
      "\u001B[1;32m<ipython-input-1-39ba7d7bd6a5>\u001B[0m in \u001B[0;36m<module>\u001B[1;34m\u001B[0m\n\u001B[0;32m     19\u001B[0m \"\"\"\n\u001B[0;32m     20\u001B[0m \u001B[1;32mif\u001B[0m \u001B[0m__name__\u001B[0m \u001B[1;33m==\u001B[0m \u001B[1;34m'__main__'\u001B[0m\u001B[1;33m:\u001B[0m\u001B[1;33m\u001B[0m\u001B[1;33m\u001B[0m\u001B[0m\n\u001B[1;32m---> 21\u001B[1;33m     \u001B[0marguments\u001B[0m \u001B[1;33m=\u001B[0m \u001B[0mdocopt\u001B[0m\u001B[1;33m(\u001B[0m\u001B[0m__doc__\u001B[0m\u001B[1;33m)\u001B[0m\u001B[1;33m\u001B[0m\u001B[1;33m\u001B[0m\u001B[0m\n\u001B[0m\u001B[0;32m     22\u001B[0m     \u001B[0mprint\u001B[0m\u001B[1;33m(\u001B[0m\u001B[0marguments\u001B[0m\u001B[1;33m)\u001B[0m\u001B[1;33m\u001B[0m\u001B[1;33m\u001B[0m\u001B[0m\n\u001B[0;32m     23\u001B[0m     \u001B[0mfiles\u001B[0m \u001B[1;33m=\u001B[0m \u001B[0marguments\u001B[0m\u001B[1;33m[\u001B[0m\u001B[1;34m'<inputVCF.vcf>'\u001B[0m\u001B[1;33m]\u001B[0m\u001B[1;33m\u001B[0m\u001B[1;33m\u001B[0m\u001B[0m\n",
      "\u001B[1;31mNameError\u001B[0m: name 'docopt' is not defined"
     ]
    }
   ],
   "source": [
    "\"\"\"\n",
    "SmartCombineVariants (SCV) v1.0 by Zorana Štaka and Darko Pjević\n",
    "Copyright (c) ETF Beograd\n",
    "\n",
    "Usage: Merge_VCF_docopt_8.6.py (-i <inputVCF.vcf>)... [-f <output_format>] [-o <out>]\n",
    "\n",
    "Options:\n",
    "  -h --help\n",
    "  \n",
    "  -i,--input_file <inputVCF.vcf>                                        Input vcf file \n",
    "  \n",
    "  -f,--output_format <output_format>                                    Output file format:\n",
    "                                                                        COMPRESSED, UNCOMPRESSED or SAME_AS_INPUT\n",
    "  \n",
    "  -o,--out <out>                                                        Output file\n",
    "\n",
    "\"\"\"\n",
    "\n",
    "import time\n",
    "from docopt import docopt\n",
    "from Output_file import Output_file\n",
    "\n",
    "start_time = time.time()\n",
    "output_file = None\n",
    "\n",
    "if __name__ == '__main__':\n",
    "    arguments = docopt(__doc__)\n",
    "    print(arguments)\n",
    "\n",
    "    output_file = Output_file(arguments)\n",
    "\n",
    "    output_file.read_input_files()\n",
    "\n",
    "    output_file.write_output_file()\n",
    "\n",
    "    print(\"--- %s seconds ---\" % (time.time() - start_time))\n",
    "    \n"
   ]
  }
 ],
 "metadata": {
  "kernelspec": {
   "display_name": "Python 3",
   "language": "python",
   "name": "python3"
  },
  "language_info": {
   "codemirror_mode": {
    "name": "ipython",
    "version": 3
   },
   "file_extension": ".py",
   "mimetype": "text/x-python",
   "name": "python",
   "nbconvert_exporter": "python",
   "pygments_lexer": "ipython3",
   "version": "3.7.6"
  }
 },
 "nbformat": 4,
 "nbformat_minor": 4
}